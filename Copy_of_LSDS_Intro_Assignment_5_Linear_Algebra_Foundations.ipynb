{
  "nbformat": 4,
  "nbformat_minor": 0,
  "metadata": {
    "colab": {
      "name": "Copy of LSDS Intro Assignment 5 - Linear Algebra Foundations.ipynb",
      "version": "0.3.2",
      "provenance": [],
      "collapsed_sections": [],
      "include_colab_link": true
    },
    "kernelspec": {
      "name": "python3",
      "display_name": "Python 3"
    }
  },
  "cells": [
    {
      "cell_type": "markdown",
      "metadata": {
        "id": "view-in-github",
        "colab_type": "text"
      },
      "source": [
        "<a href=\"https://colab.research.google.com/github/noreallyimfine/DS-Unit-1-Sprint-4-Linear-Algebra/blob/master/Copy_of_LSDS_Intro_Assignment_5_Linear_Algebra_Foundations.ipynb\" target=\"_parent\"><img src=\"https://colab.research.google.com/assets/colab-badge.svg\" alt=\"Open In Colab\"/></a>"
      ]
    },
    {
      "cell_type": "markdown",
      "metadata": {
        "id": "C6GiJ7ixeOOU",
        "colab_type": "text"
      },
      "source": [
        "#Intro to Data Science Assignment 5\n",
        "##Linear Algebra Foundations\n",
        "\n",
        "For the short answers:\n",
        "     Feel free to do any additional research, but try your best to answer the questions in your own words (don't copy/paste).\n",
        "     \n",
        "For the computations by hand:\n",
        "      If you'd like to use LaTex to make things pretty, by all means give it a try, but it is *optional*. You can answer the questions using algebraic-like notation. For instance if I was adding two vectors:\n",
        "      \n",
        "[1,2] + [2,3] => (1+2), (2+3) => [3,5] \n",
        "\n",
        "**Show your work, not just the answer**\n",
        "\n",
        "For the graphs:\n",
        "   Make them as pretty as you like\n",
        "   \n",
        " For using the tools (numpy):\n",
        "    Use labeled print statements as shown"
      ]
    },
    {
      "cell_type": "markdown",
      "metadata": {
        "id": "yJJdtDoVeiYV",
        "colab_type": "text"
      },
      "source": [
        "#Short Answer Questions\n",
        "\n",
        "1) Describe a vector\n",
        "\n",
        "2) Describe a matrix\n",
        "\n",
        "3) What can we do with vectors? \n",
        "\n",
        "4) What are basis vectors?\n",
        "\n",
        "5) What is an inverse matrix?\n",
        "\n",
        "6) What is the transpose of a matrix?\n"
      ]
    },
    {
      "cell_type": "markdown",
      "metadata": {
        "id": "J2okSel_f1lS",
        "colab_type": "text"
      },
      "source": [
        "##Your Answers go here:\n",
        "\n",
        "1) A vector is a unit that has direction + magnitude - in other word, its has a certain length and a direction it goes.\n",
        "\n",
        "2)A matrix is a recatangular array of numbers, also called a two-dimensional array, or a list of lists in Python-ese\n",
        "\n",
        "3)We can add and multiply them. \n",
        "\n",
        "4)Basis vectors are the vectors we can use to span all of the space, using addition, multiplication, and scaling. 2 for 2D space, 3 for 3D, and so on...\n",
        "\n",
        "5)An inverse matrix is a matrix, that when its original is multiplied by it, it gives you the identity matrix. Inverse matrices allow us to essentially divide matrices.\n",
        "\n",
        "6) To transpose a matrix you flip the rows and columns, so a(1,2) becomes a(2,1) and so on. The rows become columns and columns become rows."
      ]
    },
    {
      "cell_type": "markdown",
      "metadata": {
        "id": "Lb-jyiXZgHfH",
        "colab_type": "text"
      },
      "source": [
        "#Computations by hand\n",
        "\n",
        "1) $ \\begin {bmatrix} 1 \\\\ 3 \\\\ 4 \\end {bmatrix} + \\begin {bmatrix} 4 \\\\ 2 \\\\ 6 \\end {bmatrix} $\n",
        "\n",
        "2) $ 5 \\begin {bmatrix} 1 \\\\ 2 \\\\ 3 \\end{bmatrix} $\n",
        " \n",
        "3) $ \\begin {bmatrix} 1  &  3\\\\ 2 & 3  \\end{bmatrix} \\begin {bmatrix} 1 \\\\ 2 \\end{bmatrix} $\n",
        "\n",
        "4) $ \\begin {bmatrix} 1  &  3\\\\ 2 & 3 \\end{bmatrix} \\begin {bmatrix} 2 & 2 \\\\ 3 & 1 \\end{bmatrix} $\n",
        "\n",
        "5) What is the transpose of :\n",
        "\n",
        "$ \\begin{bmatrix} 1 & 4 \\\\ 2 & 5 \\\\ 3 & 6 \\end{bmatrix} $ \n",
        "\n",
        "6) What is the determinant of:\n",
        "\n",
        " $\\begin {bmatrix} 2 & 2 \\\\ 3 & 1 \\end{bmatrix}$\n",
        " \n",
        " 7) What is the inverse matrix of: \n",
        " \n",
        "  $\\begin {bmatrix} 3 & 2 \\\\ 1 & 2 \\end{bmatrix}$"
      ]
    },
    {
      "cell_type": "markdown",
      "metadata": {
        "id": "LdnLfusWjcZQ",
        "colab_type": "text"
      },
      "source": [
        "## Your Answers go here:\n",
        "\n",
        "1)  $ \\begin {bmatrix} 5 \\\\ 5 \\\\ 10 \\end {bmatrix} $\n",
        "\n",
        "2)  [(5x1), (5x2), (5x3)] =  $ \\begin {bmatrix} 5 \\\\ 10 \\\\ 15 \\end{bmatrix} $\n",
        "\n",
        "3) [(1x1) + (3x2), (2x1) + (3x2)] = $ \\begin {bmatrix} 7 \\\\ 8 \\end{bmatrix} $\n",
        "\n",
        "4) [[(1x2) + (3x3),(1x2) + (3x1)],[(2x2) + (3x3), (2x2) + (3x1)]] = $ \\begin{bmatrix} 11 & 5\\\\ 13 & 7\\end{bmatrix}$\n",
        "\n",
        "5) $ \\begin{bmatrix} 1 & 2 & 3 \\\\ 4 & 5 & 6 \\end{bmatrix} $ \n",
        "\n",
        "6) (2x1) - (2x3) = -4 \n",
        "\n",
        "7) -1/4 x $ \\begin{bmatrix} 2 & -2\\\\ -1 & 3\\end{bmatrix} = \\begin{bmatrix} .5 & -.5\\\\ -.25 & .75\\end{bmatrix}$"
      ]
    },
    {
      "cell_type": "markdown",
      "metadata": {
        "id": "B7q5osaBjo10",
        "colab_type": "text"
      },
      "source": [
        "##Visualize the Vectors\n",
        "\n",
        "Graph the following:\n",
        "\n",
        "  Vector v_1 = [1,0] \n",
        "  \n",
        "  Vector v_2 = v_1 scaled by 2\n",
        "  \n",
        "  Vector v_3 = [0,-1]\n",
        "  \n",
        "  Vector v_4 = the sum of v_2 and v_3\n",
        " "
      ]
    },
    {
      "cell_type": "code",
      "metadata": {
        "id": "uy65IMqbeNKw",
        "colab_type": "code",
        "colab": {}
      },
      "source": [
        "# Visualize the vectors graph goes here\n",
        "import matplotlib.pyplot as plt"
      ],
      "execution_count": 0,
      "outputs": []
    },
    {
      "cell_type": "code",
      "metadata": {
        "id": "8ivcy4cpCLKS",
        "colab_type": "code",
        "outputId": "ce804ed5-4b77-4fd5-ceca-0b17fe6d57f6",
        "colab": {
          "base_uri": "https://localhost:8080/",
          "height": 281
        }
      },
      "source": [
        "# The first vector\n",
        "v_1 = [1,0]\n",
        "# Scaled by 2\n",
        "v_2 = list(map(lambda v: v*2, v_1))\n",
        "# The third vector\n",
        "v_3 = [0,-1]\n",
        "# adding vectors 2 and 3 \n",
        "v_4 = [v_2[0]+v_3[0], v_2[1]+v_3[1]]\n",
        "\n",
        "# Plotting each vectore\n",
        "plt.arrow(0,0,v_1[0],v_1[1], head_width=.2, head_length=.1, color='b')\n",
        "plt.arrow(0,0,v_2[0],v_2[1], head_width=.2, head_length=.1, color='g', alpha=.8)\n",
        "plt.arrow(0,0,v_3[0],v_3[1], head_width=.2, head_length=.1, color='r')\n",
        "plt.arrow(0,0,v_4[0],v_4[1], head_width=.2, head_length=.1, color='orange')\n",
        "# Naming the graph\n",
        "plt.title(\"Vectors Visualized\")\n",
        "# Setting up the size\n",
        "plt.axis([-3, 3, -3, 3])\n",
        "# Plotting the axis lines\n",
        "plt.axhline(y=0, color='k')\n",
        "plt.axvline(x=0, color='k')\n",
        "\n",
        "plt.show()"
      ],
      "execution_count": 0,
      "outputs": [
        {
          "output_type": "display_data",
          "data": {
            "image/png": "[encoded data removed]",
            "text/plain": [
              "<Figure size 432x288 with 1 Axes>"
            ]
          },
          "metadata": {
            "tags": []
          }
        }
      ]
    },
    {
      "cell_type": "markdown",
      "metadata": {
        "id": "jWDov3LvlF9C",
        "colab_type": "text"
      },
      "source": [
        "## Graph the Matrix\n",
        "\n",
        "Graph the columns and rows of this matrix: \n",
        " $\\begin {bmatrix} 2 & 2 \\\\ 3 & 1 \\end{bmatrix}$"
      ]
    },
    {
      "cell_type": "code",
      "metadata": {
        "id": "Vru0b8zOlEUQ",
        "colab_type": "code",
        "colab": {}
      },
      "source": [
        "# Matrix graph goes here\n",
        "import numpy as np"
      ],
      "execution_count": 0,
      "outputs": []
    },
    {
      "cell_type": "code",
      "metadata": {
        "id": "C1cJXk_kIRyg",
        "colab_type": "code",
        "outputId": "e1200e7d-9c88-457e-f6bf-a7d37821922c",
        "colab": {
          "base_uri": "https://localhost:8080/",
          "height": 286
        }
      },
      "source": [
        "# Create matrix using numpy matrix method\n",
        "m_1 = np.matrix('2 2; 3 1')\n",
        "\n",
        "# Create size of graph\n",
        "plt.axis([0,5,0,5])\n",
        "# Plot the vectors\n",
        "plt.arrow(0,0,m_1[0,0],m_1[1,0], head_width = .2, head_length=.1)\n",
        "plt.arrow(0,0,m_1[0,1],m_1[1,1], head_width = .2, head_length= .1)\n",
        "# Fill in the matrix area\n",
        "plt.fill([0,2,4,2],[0,3,4,1])"
      ],
      "execution_count": 0,
      "outputs": [
        {
          "output_type": "execute_result",
          "data": {
            "text/plain": [
              "[<matplotlib.patches.Polygon at 0x7ff44f02c7b8>]"
            ]
          },
          "metadata": {
            "tags": []
          },
          "execution_count": 5
        },
        {
          "output_type": "display_data",
          "data": {
            "image/png": "[encoded data removed]",
            "text/plain": [
              "<Figure size 432x288 with 1 Axes>"
            ]
          },
          "metadata": {
            "tags": []
          }
        }
      ]
    },
    {
      "cell_type": "markdown",
      "metadata": {
        "id": "QbBhyPwhlggH",
        "colab_type": "text"
      },
      "source": [
        "## Using the tools: NumPy Edition\n",
        "\n",
        "Use the NumPy library to compute the \"Computations by Hand\" section. Make sure to print each answer and label your print statement"
      ]
    },
    {
      "cell_type": "code",
      "metadata": {
        "id": "JcjUoEANlf8Q",
        "colab_type": "code",
        "outputId": "0126c041-3eb7-4601-f1ec-b5dc1ed90779",
        "colab": {
          "base_uri": "https://localhost:8080/",
          "height": 34
        }
      },
      "source": [
        "# Code goes here\n",
        "# Example of labeling your print statement\n",
        "\n",
        "v_0 = [1,2]\n",
        "print('v_0 =', v_0)"
      ],
      "execution_count": 0,
      "outputs": [
        {
          "output_type": "stream",
          "text": [
            "v_0 = [1, 2]\n"
          ],
          "name": "stdout"
        }
      ]
    },
    {
      "cell_type": "code",
      "metadata": {
        "id": "D2Ib0Ce7KqF4",
        "colab_type": "code",
        "outputId": "734fea35-d4f4-4800-ff4f-85c82872c0ba",
        "colab": {
          "base_uri": "https://localhost:8080/",
          "height": 34
        }
      },
      "source": [
        "# Problem 1\n",
        "\n",
        "m_2 = [1, 3, 4]\n",
        "m_3 = [4, 2, 6]\n",
        "m_4 = np.add(m_2,m_3)\n",
        "print('m_4 =', m_4)"
      ],
      "execution_count": 0,
      "outputs": [
        {
          "output_type": "stream",
          "text": [
            "m_4 = [ 5  5 10]\n"
          ],
          "name": "stdout"
        }
      ]
    },
    {
      "cell_type": "code",
      "metadata": {
        "id": "KPqVmtpXL8D4",
        "colab_type": "code",
        "outputId": "77c37767-f5ce-4f50-ccd9-9dc48a6e88b3",
        "colab": {
          "base_uri": "https://localhost:8080/",
          "height": 34
        }
      },
      "source": [
        "# Problem 2\n",
        "\n",
        "m_5 = [1,2,3]\n",
        "m_6 = np.multiply(5,m_5)\n",
        "print('m_6 =', m_6)"
      ],
      "execution_count": 0,
      "outputs": [
        {
          "output_type": "stream",
          "text": [
            "m_6 = [ 5 10 15]\n"
          ],
          "name": "stdout"
        }
      ]
    },
    {
      "cell_type": "code",
      "metadata": {
        "id": "laCpghI_NOz0",
        "colab_type": "code",
        "outputId": "a6fd1920-45fb-494c-dc8f-5b132f12fd4a",
        "colab": {
          "base_uri": "https://localhost:8080/",
          "height": 34
        }
      },
      "source": [
        "# Problem 3\n",
        "\n",
        "m_7 = np.matrix('1 3; 2 3')\n",
        "m_8 = [1, 2]\n",
        "m_9 = np.matmul(m_7,m_8)\n",
        "print('m_9 =', m_9)"
      ],
      "execution_count": 0,
      "outputs": [
        {
          "output_type": "stream",
          "text": [
            "m_9 = [[7 8]]\n"
          ],
          "name": "stdout"
        }
      ]
    },
    {
      "cell_type": "code",
      "metadata": {
        "id": "T__lReq3ORUR",
        "colab_type": "code",
        "outputId": "732e4c17-ea13-4dd5-89c6-e3aacbeebca7",
        "colab": {
          "base_uri": "https://localhost:8080/",
          "height": 68
        }
      },
      "source": [
        "# Problem 4\n",
        "\n",
        "m_10 = np.matrix('1 3; 2 3')\n",
        "m_11 = np.matrix('2 2; 3 1')\n",
        "m_12 = np.matmul(m_10,m_11)\n",
        "print('m_12 = \\n',m_12)"
      ],
      "execution_count": 0,
      "outputs": [
        {
          "output_type": "stream",
          "text": [
            "m_12 = \n",
            " [[11  5]\n",
            " [13  7]]\n"
          ],
          "name": "stdout"
        }
      ]
    },
    {
      "cell_type": "code",
      "metadata": {
        "id": "mH4VI-RXQBdd",
        "colab_type": "code",
        "outputId": "547e1208-c71e-4fe3-da10-045077882ebd",
        "colab": {
          "base_uri": "https://localhost:8080/",
          "height": 136
        }
      },
      "source": [
        "# Problem 5\n",
        "\n",
        "m_13 = np.matrix('1 4; 2 5; 3 6')\n",
        "print('m_13: \\n',m_13)\n",
        "m_13_transpose = np.transpose(m_13)\n",
        "print('m_13 transpose: \\n',m_13_transpose)"
      ],
      "execution_count": 0,
      "outputs": [
        {
          "output_type": "stream",
          "text": [
            "m_13: \n",
            " [[1 4]\n",
            " [2 5]\n",
            " [3 6]]\n",
            "m_13 transpose: \n",
            " [[1 2 3]\n",
            " [4 5 6]]\n"
          ],
          "name": "stdout"
        }
      ]
    },
    {
      "cell_type": "code",
      "metadata": {
        "id": "goyCDybrQ79C",
        "colab_type": "code",
        "outputId": "2b944fb4-6870-485b-da19-307e82158fb3",
        "colab": {
          "base_uri": "https://localhost:8080/",
          "height": 34
        }
      },
      "source": [
        "# Problem 6\n",
        "\n",
        "m_14 = np.matrix('2 2; 3 1')\n",
        "print('Determinant of m_14 is ',np.linalg.det(m_14))"
      ],
      "execution_count": 0,
      "outputs": [
        {
          "output_type": "stream",
          "text": [
            "Determinant of m_14 is  -4.000000000000001\n"
          ],
          "name": "stdout"
        }
      ]
    },
    {
      "cell_type": "code",
      "metadata": {
        "id": "VeQOspl7RcY4",
        "colab_type": "code",
        "outputId": "9bc5bb4b-1594-4fc0-aa79-48241fb9d8fd",
        "colab": {
          "base_uri": "https://localhost:8080/",
          "height": 119
        }
      },
      "source": [
        "# Problem 7\n",
        "\n",
        "m_15 = np.matrix('3 2; 1 2')\n",
        "inverse_m_15 = np.linalg.inv(m_15)\n",
        "print('Inverse of m_15 is \\n',inverse_m_15)\n",
        "\n",
        "# Check for identity\n",
        "print('Checking for identity... \\n',np.matmul(m_15,inverse_m_15))"
      ],
      "execution_count": 0,
      "outputs": [
        {
          "output_type": "stream",
          "text": [
            "Inverse of m_15 is \n",
            " [[ 0.5  -0.5 ]\n",
            " [-0.25  0.75]]\n",
            "Checking for identity... \n",
            " [[1.00000000e+00 2.22044605e-16]\n",
            " [1.11022302e-16 1.00000000e+00]]\n"
          ],
          "name": "stdout"
        }
      ]
    },
    {
      "cell_type": "code",
      "metadata": {
        "id": "WtQGCDbGSe7h",
        "colab_type": "code",
        "colab": {}
      },
      "source": [
        ""
      ],
      "execution_count": 0,
      "outputs": []
    }
  ]
}